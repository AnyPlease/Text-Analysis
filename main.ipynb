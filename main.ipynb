{
 "cells": [
  {
   "cell_type": "code",
   "execution_count": 1,
   "id": "7797a791",
   "metadata": {},
   "outputs": [],
   "source": [
    "# Import statements...\n",
    "import pandas as pd\n",
    "import numpy as np\n",
    "import re\n",
    "import nltk\n",
    "import string"
   ]
  },
  {
   "cell_type": "code",
   "execution_count": 2,
   "id": "a04616a7",
   "metadata": {},
   "outputs": [
    {
     "data": {
      "text/html": [
       "<div>\n",
       "<style scoped>\n",
       "    .dataframe tbody tr th:only-of-type {\n",
       "        vertical-align: middle;\n",
       "    }\n",
       "\n",
       "    .dataframe tbody tr th {\n",
       "        vertical-align: top;\n",
       "    }\n",
       "\n",
       "    .dataframe thead th {\n",
       "        text-align: right;\n",
       "    }\n",
       "</style>\n",
       "<table border=\"1\" class=\"dataframe\">\n",
       "  <thead>\n",
       "    <tr style=\"text-align: right;\">\n",
       "      <th></th>\n",
       "      <th>Unnamed: 0</th>\n",
       "      <th>id</th>\n",
       "      <th>Message</th>\n",
       "      <th>length</th>\n",
       "      <th>country</th>\n",
       "      <th>Date</th>\n",
       "    </tr>\n",
       "  </thead>\n",
       "  <tbody>\n",
       "    <tr>\n",
       "      <th>0</th>\n",
       "      <td>0</td>\n",
       "      <td>10120</td>\n",
       "      <td>Bugis oso near wat...</td>\n",
       "      <td>21</td>\n",
       "      <td>SG</td>\n",
       "      <td>2003/4</td>\n",
       "    </tr>\n",
       "    <tr>\n",
       "      <th>1</th>\n",
       "      <td>1</td>\n",
       "      <td>10121</td>\n",
       "      <td>Go until jurong point, crazy.. Available only ...</td>\n",
       "      <td>111</td>\n",
       "      <td>SG</td>\n",
       "      <td>2003/4</td>\n",
       "    </tr>\n",
       "    <tr>\n",
       "      <th>2</th>\n",
       "      <td>2</td>\n",
       "      <td>10122</td>\n",
       "      <td>I dunno until when... Lets go learn pilates...</td>\n",
       "      <td>46</td>\n",
       "      <td>SG</td>\n",
       "      <td>2003/4</td>\n",
       "    </tr>\n",
       "    <tr>\n",
       "      <th>3</th>\n",
       "      <td>3</td>\n",
       "      <td>10123</td>\n",
       "      <td>Den only weekdays got special price... Haiz......</td>\n",
       "      <td>140</td>\n",
       "      <td>SG</td>\n",
       "      <td>2003/4</td>\n",
       "    </tr>\n",
       "    <tr>\n",
       "      <th>4</th>\n",
       "      <td>4</td>\n",
       "      <td>10124</td>\n",
       "      <td>Meet after lunch la...</td>\n",
       "      <td>22</td>\n",
       "      <td>SG</td>\n",
       "      <td>2003/4</td>\n",
       "    </tr>\n",
       "  </tbody>\n",
       "</table>\n",
       "</div>"
      ],
      "text/plain": [
       "   Unnamed: 0     id                                            Message  \\\n",
       "0           0  10120                              Bugis oso near wat...   \n",
       "1           1  10121  Go until jurong point, crazy.. Available only ...   \n",
       "2           2  10122     I dunno until when... Lets go learn pilates...   \n",
       "3           3  10123  Den only weekdays got special price... Haiz......   \n",
       "4           4  10124                             Meet after lunch la...   \n",
       "\n",
       "  length country    Date  \n",
       "0     21      SG  2003/4  \n",
       "1    111      SG  2003/4  \n",
       "2     46      SG  2003/4  \n",
       "3    140      SG  2003/4  \n",
       "4     22      SG  2003/4  "
      ]
     },
     "execution_count": 2,
     "metadata": {},
     "output_type": "execute_result"
    }
   ],
   "source": [
    "# Importing csv file \n",
    "df = pd.read_csv('clean_nus_sms.csv')\n",
    "df.head()"
   ]
  },
  {
   "cell_type": "markdown",
   "id": "17eb6987",
   "metadata": {},
   "source": [
    "## Making lowercase "
   ]
  },
  {
   "cell_type": "code",
   "execution_count": 3,
   "id": "f34de9e3",
   "metadata": {},
   "outputs": [
    {
     "data": {
      "text/html": [
       "<div>\n",
       "<style scoped>\n",
       "    .dataframe tbody tr th:only-of-type {\n",
       "        vertical-align: middle;\n",
       "    }\n",
       "\n",
       "    .dataframe tbody tr th {\n",
       "        vertical-align: top;\n",
       "    }\n",
       "\n",
       "    .dataframe thead th {\n",
       "        text-align: right;\n",
       "    }\n",
       "</style>\n",
       "<table border=\"1\" class=\"dataframe\">\n",
       "  <thead>\n",
       "    <tr style=\"text-align: right;\">\n",
       "      <th></th>\n",
       "      <th>Unnamed: 0</th>\n",
       "      <th>id</th>\n",
       "      <th>Message</th>\n",
       "      <th>length</th>\n",
       "      <th>country</th>\n",
       "      <th>Date</th>\n",
       "      <th>messages_clean</th>\n",
       "    </tr>\n",
       "  </thead>\n",
       "  <tbody>\n",
       "    <tr>\n",
       "      <th>0</th>\n",
       "      <td>0</td>\n",
       "      <td>10120</td>\n",
       "      <td>Bugis oso near wat...</td>\n",
       "      <td>21</td>\n",
       "      <td>SG</td>\n",
       "      <td>2003/4</td>\n",
       "      <td>bugis oso near wat...</td>\n",
       "    </tr>\n",
       "    <tr>\n",
       "      <th>1</th>\n",
       "      <td>1</td>\n",
       "      <td>10121</td>\n",
       "      <td>Go until jurong point, crazy.. Available only ...</td>\n",
       "      <td>111</td>\n",
       "      <td>SG</td>\n",
       "      <td>2003/4</td>\n",
       "      <td>go until jurong point, crazy.. available only ...</td>\n",
       "    </tr>\n",
       "    <tr>\n",
       "      <th>2</th>\n",
       "      <td>2</td>\n",
       "      <td>10122</td>\n",
       "      <td>I dunno until when... Lets go learn pilates...</td>\n",
       "      <td>46</td>\n",
       "      <td>SG</td>\n",
       "      <td>2003/4</td>\n",
       "      <td>i dunno until when... lets go learn pilates...</td>\n",
       "    </tr>\n",
       "    <tr>\n",
       "      <th>3</th>\n",
       "      <td>3</td>\n",
       "      <td>10123</td>\n",
       "      <td>Den only weekdays got special price... Haiz......</td>\n",
       "      <td>140</td>\n",
       "      <td>SG</td>\n",
       "      <td>2003/4</td>\n",
       "      <td>den only weekdays got special price... haiz......</td>\n",
       "    </tr>\n",
       "    <tr>\n",
       "      <th>4</th>\n",
       "      <td>4</td>\n",
       "      <td>10124</td>\n",
       "      <td>Meet after lunch la...</td>\n",
       "      <td>22</td>\n",
       "      <td>SG</td>\n",
       "      <td>2003/4</td>\n",
       "      <td>meet after lunch la...</td>\n",
       "    </tr>\n",
       "  </tbody>\n",
       "</table>\n",
       "</div>"
      ],
      "text/plain": [
       "   Unnamed: 0     id                                            Message  \\\n",
       "0           0  10120                              Bugis oso near wat...   \n",
       "1           1  10121  Go until jurong point, crazy.. Available only ...   \n",
       "2           2  10122     I dunno until when... Lets go learn pilates...   \n",
       "3           3  10123  Den only weekdays got special price... Haiz......   \n",
       "4           4  10124                             Meet after lunch la...   \n",
       "\n",
       "  length country    Date                                     messages_clean  \n",
       "0     21      SG  2003/4                              bugis oso near wat...  \n",
       "1    111      SG  2003/4  go until jurong point, crazy.. available only ...  \n",
       "2     46      SG  2003/4     i dunno until when... lets go learn pilates...  \n",
       "3    140      SG  2003/4  den only weekdays got special price... haiz......  \n",
       "4     22      SG  2003/4                             meet after lunch la...  "
      ]
     },
     "execution_count": 3,
     "metadata": {},
     "output_type": "execute_result"
    }
   ],
   "source": [
    "df = df.dropna()\n",
    "df['messages_clean'] = df['Message'].str.lower()\n",
    "df.head()"
   ]
  },
  {
   "cell_type": "markdown",
   "id": "e2f8b6e0",
   "metadata": {},
   "source": [
    "## Remove HTML tags and URLs"
   ]
  },
  {
   "cell_type": "code",
   "execution_count": 4,
   "id": "9d3bd322",
   "metadata": {},
   "outputs": [],
   "source": [
    "def remove_url(text):\n",
    "    url_pattern = re.compile(r'https?://\\S+|www\\.\\S+')\n",
    "    return url_pattern.sub('',text)\n",
    "\n",
    "def remove_html(text):\n",
    "    html_pattern = re.compile('<.*?>')\n",
    "    return html_pattern.sub(r'', text)\n",
    "\n",
    "df[\"messages_clean\"] = df[\"messages_clean\"].apply(lambda text: remove_url(text))\n",
    "df[\"messages_clean\"] = df[\"messages_clean\"].apply(lambda text: remove_html(text))"
   ]
  },
  {
   "cell_type": "markdown",
   "id": "cbc48fb3",
   "metadata": {},
   "source": [
    "## Remove punctuations "
   ]
  },
  {
   "cell_type": "code",
   "execution_count": 5,
   "id": "8ec5d20f",
   "metadata": {},
   "outputs": [
    {
     "data": {
      "text/html": [
       "<div>\n",
       "<style scoped>\n",
       "    .dataframe tbody tr th:only-of-type {\n",
       "        vertical-align: middle;\n",
       "    }\n",
       "\n",
       "    .dataframe tbody tr th {\n",
       "        vertical-align: top;\n",
       "    }\n",
       "\n",
       "    .dataframe thead th {\n",
       "        text-align: right;\n",
       "    }\n",
       "</style>\n",
       "<table border=\"1\" class=\"dataframe\">\n",
       "  <thead>\n",
       "    <tr style=\"text-align: right;\">\n",
       "      <th></th>\n",
       "      <th>Unnamed: 0</th>\n",
       "      <th>id</th>\n",
       "      <th>Message</th>\n",
       "      <th>length</th>\n",
       "      <th>country</th>\n",
       "      <th>Date</th>\n",
       "      <th>messages_clean</th>\n",
       "    </tr>\n",
       "  </thead>\n",
       "  <tbody>\n",
       "    <tr>\n",
       "      <th>0</th>\n",
       "      <td>0</td>\n",
       "      <td>10120</td>\n",
       "      <td>Bugis oso near wat...</td>\n",
       "      <td>21</td>\n",
       "      <td>SG</td>\n",
       "      <td>2003/4</td>\n",
       "      <td>bugis oso near wat</td>\n",
       "    </tr>\n",
       "    <tr>\n",
       "      <th>1</th>\n",
       "      <td>1</td>\n",
       "      <td>10121</td>\n",
       "      <td>Go until jurong point, crazy.. Available only ...</td>\n",
       "      <td>111</td>\n",
       "      <td>SG</td>\n",
       "      <td>2003/4</td>\n",
       "      <td>go until jurong point crazy available only in ...</td>\n",
       "    </tr>\n",
       "    <tr>\n",
       "      <th>2</th>\n",
       "      <td>2</td>\n",
       "      <td>10122</td>\n",
       "      <td>I dunno until when... Lets go learn pilates...</td>\n",
       "      <td>46</td>\n",
       "      <td>SG</td>\n",
       "      <td>2003/4</td>\n",
       "      <td>i dunno until when lets go learn pilates</td>\n",
       "    </tr>\n",
       "    <tr>\n",
       "      <th>3</th>\n",
       "      <td>3</td>\n",
       "      <td>10123</td>\n",
       "      <td>Den only weekdays got special price... Haiz......</td>\n",
       "      <td>140</td>\n",
       "      <td>SG</td>\n",
       "      <td>2003/4</td>\n",
       "      <td>den only weekdays got special price haiz cant ...</td>\n",
       "    </tr>\n",
       "    <tr>\n",
       "      <th>4</th>\n",
       "      <td>4</td>\n",
       "      <td>10124</td>\n",
       "      <td>Meet after lunch la...</td>\n",
       "      <td>22</td>\n",
       "      <td>SG</td>\n",
       "      <td>2003/4</td>\n",
       "      <td>meet after lunch la</td>\n",
       "    </tr>\n",
       "  </tbody>\n",
       "</table>\n",
       "</div>"
      ],
      "text/plain": [
       "   Unnamed: 0     id                                            Message  \\\n",
       "0           0  10120                              Bugis oso near wat...   \n",
       "1           1  10121  Go until jurong point, crazy.. Available only ...   \n",
       "2           2  10122     I dunno until when... Lets go learn pilates...   \n",
       "3           3  10123  Den only weekdays got special price... Haiz......   \n",
       "4           4  10124                             Meet after lunch la...   \n",
       "\n",
       "  length country    Date                                     messages_clean  \n",
       "0     21      SG  2003/4                                 bugis oso near wat  \n",
       "1    111      SG  2003/4  go until jurong point crazy available only in ...  \n",
       "2     46      SG  2003/4           i dunno until when lets go learn pilates  \n",
       "3    140      SG  2003/4  den only weekdays got special price haiz cant ...  \n",
       "4     22      SG  2003/4                                meet after lunch la  "
      ]
     },
     "execution_count": 5,
     "metadata": {},
     "output_type": "execute_result"
    }
   ],
   "source": [
    "def remove_punc(text):\n",
    "    punc = re.compile(r'[^\\w\\s]')\n",
    "    return punc.sub('',text)\n",
    "\n",
    "df['messages_clean'] = df['messages_clean'].apply(lambda text: remove_punc(text))\n",
    "df.head()"
   ]
  },
  {
   "cell_type": "markdown",
   "id": "b84ba86e",
   "metadata": {},
   "source": [
    "## Tokenize messages"
   ]
  },
  {
   "cell_type": "code",
   "execution_count": 6,
   "id": "fcb1e53c",
   "metadata": {},
   "outputs": [
    {
     "data": {
      "text/html": [
       "<div>\n",
       "<style scoped>\n",
       "    .dataframe tbody tr th:only-of-type {\n",
       "        vertical-align: middle;\n",
       "    }\n",
       "\n",
       "    .dataframe tbody tr th {\n",
       "        vertical-align: top;\n",
       "    }\n",
       "\n",
       "    .dataframe thead th {\n",
       "        text-align: right;\n",
       "    }\n",
       "</style>\n",
       "<table border=\"1\" class=\"dataframe\">\n",
       "  <thead>\n",
       "    <tr style=\"text-align: right;\">\n",
       "      <th></th>\n",
       "      <th>Unnamed: 0</th>\n",
       "      <th>id</th>\n",
       "      <th>Message</th>\n",
       "      <th>length</th>\n",
       "      <th>country</th>\n",
       "      <th>Date</th>\n",
       "      <th>messages_clean</th>\n",
       "      <th>messages_tokenized</th>\n",
       "    </tr>\n",
       "  </thead>\n",
       "  <tbody>\n",
       "    <tr>\n",
       "      <th>0</th>\n",
       "      <td>0</td>\n",
       "      <td>10120</td>\n",
       "      <td>Bugis oso near wat...</td>\n",
       "      <td>21</td>\n",
       "      <td>SG</td>\n",
       "      <td>2003/4</td>\n",
       "      <td>bugis oso near wat</td>\n",
       "      <td>[bugis, oso, near, wat]</td>\n",
       "    </tr>\n",
       "    <tr>\n",
       "      <th>1</th>\n",
       "      <td>1</td>\n",
       "      <td>10121</td>\n",
       "      <td>Go until jurong point, crazy.. Available only ...</td>\n",
       "      <td>111</td>\n",
       "      <td>SG</td>\n",
       "      <td>2003/4</td>\n",
       "      <td>go until jurong point crazy available only in ...</td>\n",
       "      <td>[go, until, jurong, point, crazy, available, o...</td>\n",
       "    </tr>\n",
       "    <tr>\n",
       "      <th>2</th>\n",
       "      <td>2</td>\n",
       "      <td>10122</td>\n",
       "      <td>I dunno until when... Lets go learn pilates...</td>\n",
       "      <td>46</td>\n",
       "      <td>SG</td>\n",
       "      <td>2003/4</td>\n",
       "      <td>i dunno until when lets go learn pilates</td>\n",
       "      <td>[i, dunno, until, when, lets, go, learn, pilates]</td>\n",
       "    </tr>\n",
       "    <tr>\n",
       "      <th>3</th>\n",
       "      <td>3</td>\n",
       "      <td>10123</td>\n",
       "      <td>Den only weekdays got special price... Haiz......</td>\n",
       "      <td>140</td>\n",
       "      <td>SG</td>\n",
       "      <td>2003/4</td>\n",
       "      <td>den only weekdays got special price haiz cant ...</td>\n",
       "      <td>[den, only, weekdays, got, special, price, hai...</td>\n",
       "    </tr>\n",
       "    <tr>\n",
       "      <th>4</th>\n",
       "      <td>4</td>\n",
       "      <td>10124</td>\n",
       "      <td>Meet after lunch la...</td>\n",
       "      <td>22</td>\n",
       "      <td>SG</td>\n",
       "      <td>2003/4</td>\n",
       "      <td>meet after lunch la</td>\n",
       "      <td>[meet, after, lunch, la]</td>\n",
       "    </tr>\n",
       "  </tbody>\n",
       "</table>\n",
       "</div>"
      ],
      "text/plain": [
       "   Unnamed: 0     id                                            Message  \\\n",
       "0           0  10120                              Bugis oso near wat...   \n",
       "1           1  10121  Go until jurong point, crazy.. Available only ...   \n",
       "2           2  10122     I dunno until when... Lets go learn pilates...   \n",
       "3           3  10123  Den only weekdays got special price... Haiz......   \n",
       "4           4  10124                             Meet after lunch la...   \n",
       "\n",
       "  length country    Date                                     messages_clean  \\\n",
       "0     21      SG  2003/4                                 bugis oso near wat   \n",
       "1    111      SG  2003/4  go until jurong point crazy available only in ...   \n",
       "2     46      SG  2003/4           i dunno until when lets go learn pilates   \n",
       "3    140      SG  2003/4  den only weekdays got special price haiz cant ...   \n",
       "4     22      SG  2003/4                                meet after lunch la   \n",
       "\n",
       "                                  messages_tokenized  \n",
       "0                            [bugis, oso, near, wat]  \n",
       "1  [go, until, jurong, point, crazy, available, o...  \n",
       "2  [i, dunno, until, when, lets, go, learn, pilates]  \n",
       "3  [den, only, weekdays, got, special, price, hai...  \n",
       "4                           [meet, after, lunch, la]  "
      ]
     },
     "execution_count": 6,
     "metadata": {},
     "output_type": "execute_result"
    }
   ],
   "source": [
    "from nltk.tokenize import word_tokenize\n",
    "# messages = df['messages_clean'].tolist()\n",
    "\n",
    "# messages_token = [nltk.word_tokenize(message) for message in messages] --> This will crash your computer\n",
    "\n",
    "df['messages_tokenized'] = df['messages_clean'].apply(lambda x: nltk.word_tokenize(x))\n",
    "df.head()"
   ]
  },
  {
   "cell_type": "markdown",
   "id": "3272f39a",
   "metadata": {},
   "source": [
    "# Would be doing sentiment analysis using Naive Bayes Algorithm"
   ]
  },
  {
   "cell_type": "code",
   "execution_count": 7,
   "id": "1a57741f",
   "metadata": {},
   "outputs": [],
   "source": [
    "from sklearn.naive_bayes import MultinomialNB\n",
    "from sklearn.feature_extraction.text import CountVectorizer\n",
    "import matplotlib.pyplot as plt"
   ]
  },
  {
   "cell_type": "markdown",
   "id": "893270f4",
   "metadata": {},
   "source": [
    "## Firstly would be cleaning countries data, there are many repeats in the data "
   ]
  },
  {
   "cell_type": "code",
   "execution_count": 8,
   "id": "337a8212",
   "metadata": {},
   "outputs": [],
   "source": [
    "df = df.replace({'country' : {'SG':'Singapore',\n",
    "                         'USA':\"United States of America\",\n",
    "                         'United States':'United States of America',\n",
    "                         'india':'India',\n",
    "                         'INDIA':'India',\n",
    "                         'srilanka':'Sri Lanka',\n",
    "                         'MY':'Malaysia',\n",
    "                         'BARBADOS':'Barbados',\n",
    "                         'UK':'United Kingdom',\n",
    "                         'jamaica':'Jamaica',\n",
    "                         'unkown':'Unkown'}})"
   ]
  },
  {
   "cell_type": "code",
   "execution_count": 9,
   "id": "d6aef925",
   "metadata": {},
   "outputs": [
    {
     "data": {
      "text/plain": [
       "Text(0.5, 1.0, 'Top 10 Countries')"
      ]
     },
     "execution_count": 9,
     "metadata": {},
     "output_type": "execute_result"
    },
    {
     "data": {
      "image/png": "[encoded data removed]",
      "text/plain": [
       "<Figure size 432x288 with 1 Axes>"
      ]
     },
     "metadata": {
      "needs_background": "light"
     },
     "output_type": "display_data"
    }
   ],
   "source": [
    "countries = np.unique(df['country'].tolist())\n",
    "countries_count = df['country'].value_counts()\n",
    "countries_count.head(10).plot.barh()\n",
    "plt.title('Top 10 Countries')"
   ]
  },
  {
   "cell_type": "markdown",
   "id": "5debe8bf",
   "metadata": {},
   "source": [
    "## Sentiment analysis would require some training data, the data we have would be useful for testing the model. To train the model, I would download some external 'positive' and 'negative' tweets to build a good classifier."
   ]
  },
  {
   "cell_type": "code",
   "execution_count": 10,
   "id": "9e4603cc",
   "metadata": {},
   "outputs": [
    {
     "name": "stderr",
     "output_type": "stream",
     "text": [
      "[nltk_data] Downloading package twitter_samples to\n",
      "[nltk_data]     /Users/dhruvanand/nltk_data...\n",
      "[nltk_data]   Package twitter_samples is already up-to-date!\n",
      "[nltk_data] Downloading package averaged_perceptron_tagger to\n",
      "[nltk_data]     /Users/dhruvanand/nltk_data...\n",
      "[nltk_data]   Package averaged_perceptron_tagger is already up-to-\n",
      "[nltk_data]       date!\n",
      "[nltk_data] Downloading package wordnet to\n",
      "[nltk_data]     /Users/dhruvanand/nltk_data...\n",
      "[nltk_data]   Package wordnet is already up-to-date!\n"
     ]
    },
    {
     "data": {
      "text/plain": [
       "True"
      ]
     },
     "execution_count": 10,
     "metadata": {},
     "output_type": "execute_result"
    }
   ],
   "source": [
    "nltk.download('twitter_samples')\n",
    "nltk.download('averaged_perceptron_tagger')\n",
    "nltk.download('wordnet')"
   ]
  },
  {
   "cell_type": "code",
   "execution_count": 11,
   "id": "a91a5712",
   "metadata": {},
   "outputs": [],
   "source": [
    "from nltk.corpus import twitter_samples"
   ]
  },
  {
   "cell_type": "code",
   "execution_count": 12,
   "id": "8a7787bf",
   "metadata": {},
   "outputs": [],
   "source": [
    "positive_tweets = twitter_samples.strings('positive_tweets.json')\n",
    "negative_tweets = twitter_samples.strings('negative_tweets.json')"
   ]
  },
  {
   "cell_type": "markdown",
   "id": "c16f8ef7",
   "metadata": {},
   "source": [
    "## Looking through the data, there are many URLs and HTML tags. I'll do some cleaning for the training data. "
   ]
  },
  {
   "cell_type": "code",
   "execution_count": 13,
   "id": "e5105217",
   "metadata": {},
   "outputs": [],
   "source": [
    "positive_tweets_token = twitter_samples.tokenized('positive_tweets.json')\n",
    "negative_tweets_token = twitter_samples.tokenized('negative_tweets.json')"
   ]
  },
  {
   "cell_type": "code",
   "execution_count": 28,
   "id": "692657af",
   "metadata": {},
   "outputs": [],
   "source": [
    "pos_clean = []\n",
    "neg_clean = []\n",
    "\n",
    "for tweet in positive_tweets_token:\n",
    "    clean = []\n",
    "    for token in tweet:\n",
    "        url_removed = remove_url(token)\n",
    "        html_removed = remove_html(url_removed)\n",
    "        \n",
    "        clean.append(html_removed)\n",
    "    pos_clean.append(clean)\n",
    "    \n",
    "for tweet in negative_tweets_token:\n",
    "    clean = []\n",
    "    for token in tweet:\n",
    "        url_removed = remove_url(token)\n",
    "        html_removed = remove_html(url_removed)\n",
    "        \n",
    "        clean.append(html_removed)\n",
    "    neg_clean.append(clean)"
   ]
  },
  {
   "cell_type": "code",
   "execution_count": 42,
   "id": "46159093",
   "metadata": {},
   "outputs": [],
   "source": [
    "list_of_all_tweets = pos_clean + neg_clean\n",
    "all_tweets = [token for lst in list_of_all_tweets for token in lst]"
   ]
  },
  {
   "cell_type": "code",
   "execution_count": 84,
   "id": "b8468cec",
   "metadata": {},
   "outputs": [],
   "source": [
    "# Frequency distribution...\n",
    "all_tokens = nltk.FreqDist(token for token in all_tweets)\n",
    "features = [word for (word,count) in all_tokens.most_common(20000)]"
   ]
  },
  {
   "cell_type": "code",
   "execution_count": 85,
   "id": "6ee18fc2",
   "metadata": {},
   "outputs": [],
   "source": [
    "# A function to check do the sentence has the features\n",
    "def check_features(document,features):\n",
    "    documents_token = set(document)\n",
    "    present_features = {}\n",
    "    \n",
    "    for token in features:\n",
    "        present_features[token] = (token in documents_token)\n",
    "    \n",
    "    return present_features"
   ]
  },
  {
   "cell_type": "markdown",
   "id": "06115f8a",
   "metadata": {},
   "source": [
    "## Giving labels to our data "
   ]
  },
  {
   "cell_type": "code",
   "execution_count": 86,
   "id": "a5448c00",
   "metadata": {},
   "outputs": [],
   "source": [
    "import random\n",
    "positive_tws = [(tweet, \"Positive\") for tweet in pos_clean]\n",
    "negative_tws = [(tweet, \"Negative\") for tweet in neg_clean]\n",
    "\n",
    "all_labeled_tweets = positive_tws + negative_tws\n",
    "random.shuffle(all_labeled_tweets)\n",
    "\n",
    "\n",
    "features_set = [(check_features(documents,features),l) for (documents,l) in all_labeled_tweets]"
   ]
  },
  {
   "cell_type": "code",
   "execution_count": 87,
   "id": "842d32d7",
   "metadata": {},
   "outputs": [],
   "source": [
    "## Seperating Training and Test data\n",
    "training_data, test_data = features_set[:7000], features_set[7000:]"
   ]
  },
  {
   "cell_type": "markdown",
   "id": "6a3f668a",
   "metadata": {},
   "source": [
    "## Let's start training and test our model"
   ]
  },
  {
   "cell_type": "code",
   "execution_count": 88,
   "id": "01647aa8",
   "metadata": {},
   "outputs": [
    {
     "name": "stdout",
     "output_type": "stream",
     "text": [
      "Accuracy is: 0.994\n"
     ]
    }
   ],
   "source": [
    "classifier = nltk.NaiveBayesClassifier.train(training_data)\n",
    "# Mistake done, features list should be a dict.\n",
    "\n",
    "from nltk import classify\n",
    "print(f\"Accuracy is: {classify.accuracy(classifier,test_data)}\")"
   ]
  },
  {
   "cell_type": "markdown",
   "id": "82aa071b",
   "metadata": {},
   "source": [
    "## Now we test our model with the text messages"
   ]
  },
  {
   "cell_type": "code",
   "execution_count": 98,
   "id": "f7668559",
   "metadata": {},
   "outputs": [
    {
     "data": {
      "text/plain": [
       "'Positive'"
      ]
     },
     "execution_count": 98,
     "metadata": {},
     "output_type": "execute_result"
    }
   ],
   "source": [
    "test_message = \"i love you\"\n",
    "test_message = test_message.lower().split(\" \")\n",
    "\n",
    "classifier.classify(dict([token,True] for token in test_message))"
   ]
  },
  {
   "cell_type": "code",
   "execution_count": 90,
   "id": "65c6706f",
   "metadata": {},
   "outputs": [
    {
     "data": {
      "text/plain": [
       "Negative    31905\n",
       "Positive    16690\n",
       "Name: Sentiment, dtype: int64"
      ]
     },
     "execution_count": 90,
     "metadata": {},
     "output_type": "execute_result"
    }
   ],
   "source": [
    "sentiments = []\n",
    "\n",
    "for message in df['messages_tokenized']:\n",
    "    sentiments.append(str((classifier.classify(dict([token, True] for token in message)))))\n",
    "    \n",
    "df['Sentiment'] = sentiments\n",
    "df['Sentiment'].value_counts()"
   ]
  },
  {
   "cell_type": "code",
   "execution_count": 91,
   "id": "a510dc83",
   "metadata": {},
   "outputs": [
    {
     "name": "stdout",
     "output_type": "stream",
     "text": [
      "Model predicts there are 65.65490276777446% of the messages are Negative\n"
     ]
    },
    {
     "data": {
      "image/png": "[encoded data removed]",
      "text/plain": [
       "<Figure size 432x288 with 1 Axes>"
      ]
     },
     "metadata": {
      "needs_background": "light"
     },
     "output_type": "display_data"
    }
   ],
   "source": [
    "import seaborn as sns\n",
    "sns.countplot(x='Sentiment', data=df, palette='RdBu')\n",
    "print(f\"Model predicts there are {df['Sentiment'].value_counts(normalize=True)[0] * 100}% of the messages are Negative\")"
   ]
  },
  {
   "cell_type": "code",
   "execution_count": 63,
   "id": "d4ceec7f",
   "metadata": {},
   "outputs": [
    {
     "data": {
      "text/plain": [
       "['hey',\n",
       " 'what',\n",
       " 'time',\n",
       " 'is',\n",
       " 'your',\n",
       " 'driving',\n",
       " 'on',\n",
       " 'fri',\n",
       " 'we',\n",
       " 'go',\n",
       " 'for',\n",
       " 'evaluation',\n",
       " 'on',\n",
       " 'fri']"
      ]
     },
     "execution_count": 63,
     "metadata": {},
     "output_type": "execute_result"
    }
   ],
   "source": []
  },
  {
   "cell_type": "code",
   "execution_count": null,
   "id": "cb13e8c0",
   "metadata": {},
   "outputs": [],
   "source": []
  }
 ],
 "metadata": {
  "kernelspec": {
   "display_name": "Python 3",
   "language": "python",
   "name": "python3"
  },
  "language_info": {
   "codemirror_mode": {
    "name": "ipython",
    "version": 3
   },
   "file_extension": ".py",
   "mimetype": "text/x-python",
   "name": "python",
   "nbconvert_exporter": "python",
   "pygments_lexer": "ipython3",
   "version": "3.8.8"
  }
 },
 "nbformat": 4,
 "nbformat_minor": 5
}
